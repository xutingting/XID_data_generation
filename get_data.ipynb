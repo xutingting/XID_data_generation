{
 "cells": [
  {
   "cell_type": "code",
   "execution_count": 4,
   "metadata": {
    "collapsed": false,
    "scrolled": false
   },
   "outputs": [
    {
     "name": "stdout",
     "output_type": "stream",
     "text": [
      "10\n"
     ]
    }
   ],
   "source": [
    "from hanzi2pinyin import hanzi2pinyin\n",
    "h2p=hanzi2pinyin\n",
    "import xlrd,random,copy\n",
    "import numpy as np\n",
    "import scipy as sp\n",
    "import networkx as nx\n",
    "import json\n",
    "from sklearn.linear_model import Lasso\n",
    "def change(s):\n",
    "    ori=['sanqicun','jienaocun','yousancun','shangercun','honglinnongchang','quijiazhuangcun',\\\n",
    "    'qiaojiacun','honglinlinchang','lianhuacun','qiaosicun','xinhe']\n",
    "    new=['shangsanqicun','jienaoqicun','yousanbacun','shangerqicun','honglincun','qiujiazhuang',\\\n",
    "    'qiaojiasicun','honglincun','lianhuashancun','qiaojiasicun','xinhecun']\n",
    "    if s in ori:\n",
    "        return new[ori.index(s)]\n",
    "    return s\n",
    "f=file('name2.txt','r')\n",
    "pos={}\n",
    "belong={}\n",
    "for i in f:\n",
    "    name,p1,p2=i[:-1].split()\n",
    "    pos[change(name)]=(float(p1),float(p2))\n",
    "f.close()\n",
    "dis=lambda x,y:((x[0]-y[0])**2+(x[1]-y[1])**2)**0.5\n",
    "\n",
    "wbk=xlrd.open_workbook('fulllist.xlsx')\n",
    "sht=wbk.sheet_by_index(0)\n",
    "for i in range(sht.nrows):\n",
    "    belong[change(h2p(sht.cell(i,2).value))]=h2p(sht.cell(i,1).value[-3:])\n",
    "for i in pos:\n",
    "    if not i in belong:\n",
    "        print i\n",
    "towns=set(belong.values())\n",
    "print len(towns)\n",
    "stp=[15197954.7583,15575100.0]\n",
    "class trade:\n",
    "    def __init__(self, a=-1, b=-1, vol=-1, price=-1, date=-1):\n",
    "        self.a,self.b,self.vol,self.price,self.date=a,b,vol,price,date\n",
    "        self.feature={}\n",
    "        if type(a)==str:\n",
    "            self.getfeature()\n",
    "    def tostr(self):\n",
    "        return 'self.a,self.b,self.vol,self.price,self.date,self.feature=\\'%s\\',\\'%s\\',%lf,%lf,\\'%s\\',%s\\n'%\\\n",
    "        (self.a,self.b,self.vol,self.price,self.date,self.feature)\n",
    "    def fromstr(self,s):\n",
    "        #coding=gbk\n",
    "        exec s\n",
    "        self.getfeature()\n",
    "        return self\n",
    "    def __getitem__(self,x):\n",
    "        if x=='vol':\n",
    "            return self.vol\n",
    "        if x=='price':\n",
    "            return self.price\n",
    "        if x=='date':\n",
    "            return self.date\n",
    "        if x=='year':\n",
    "            return int(self.date[-4:])\n",
    "        if x=='a':\n",
    "            return self.a\n",
    "        if x=='b':\n",
    "            return self.b\n",
    "        return self.feature[x]\n",
    "    def getfeature(self):\n",
    "        self.feature['dis']=dis(pos[self.a],pos[self.b])/531021.5144183182\n",
    "\n",
    "\n",
    "cons=[]\n",
    "lost={}\n",
    "trades=[]"
   ]
  },
  {
   "cell_type": "code",
   "execution_count": 6,
   "metadata": {
    "collapsed": true
   },
   "outputs": [],
   "source": [
    "f=file('features.txt','r')\n",
    "trades=[trade().fromstr(h2p(i)) for i in f.readlines()]\n",
    "# add a 'best fit' line\n",
    "bads = []\n",
    "for i in range(len(trades)):\n",
    "    for j in range(i+1,len(trades)):\n",
    "        flag=True\n",
    "        for para in ['a','b','vol','price','year']:\n",
    "            if trades[i][para]!=trades[j][para]:\n",
    "                flag = False\n",
    "        if flag:\n",
    "            if i not in [92,362]:\n",
    "                bads.append(i)\n",
    "trades = [trades[i] for i in range(len(trades)) if i not in bads]\n"
   ]
  },
  {
   "cell_type": "code",
   "execution_count": 7,
   "metadata": {
    "collapsed": false,
    "scrolled": true
   },
   "outputs": [
    {
     "data": {
      "image/png": "[encoded data removed]",
      "text/plain": [
       "<matplotlib.figure.Figure at 0x113068b50>"
      ]
     },
     "metadata": {},
     "output_type": "display_data"
    }
   ],
   "source": [
    "get_dis = lambda x,y: dis(pos[x],pos[y])/531021.5144183182\n",
    "\n",
    "class Village:\n",
    "    def __init__(self, name):\n",
    "        self.name = name\n",
    "        self.hist_p = []\n",
    "        self.hist_q = []\n",
    "        self.hist_sb = []  # sell or buy\n",
    "        self.pos = pos[name]\n",
    "        self.dropout = 0.5\n",
    "\n",
    "    def prepare(self):\n",
    "        if self.hist_p == []:\n",
    "            return\n",
    "        self.mean_p = np.mean(self.hist_p)\n",
    "        self.mean_q = np.mean(self.hist_q)\n",
    "        self.var_p = np.var(self.hist_p)\n",
    "        self.var_q = np.var(self.hist_q)\n",
    "        self.prob_s = self.hist_sb.count('s') * 1. / len(self.hist_sb)\n",
    "\n",
    "    def get_instance(self):\n",
    "        if random.random() < self.dropout or len(self.hist_p) == 0:\n",
    "            return [-1,-1,-1]\n",
    "        ret = []\n",
    "        self.var_p = max(self.var_p, 1e-3)\n",
    "        if random.random() < self.prob_s:\n",
    "            ret.append('s')\n",
    "            minp, maxp = self.mean_p - self.var_p**0.5, self.mean_p + 0.5 *self.var_p**0.5\n",
    "        else:\n",
    "            ret.append('b')\n",
    "            minp, maxp = self.mean_p - 0.5* self.var_p**0.5, self.mean_p + self.var_p**0.5\n",
    "        minp = max(minp, 0.1)\n",
    "        tmp = np.random.normal(self.mean_p, self.var_p ** 0.5)\n",
    "        while tmp > maxp or tmp < minp:\n",
    "            tmp = np.random.normal(self.mean_p, self.var_p ** 0.5)\n",
    "        ret.append(tmp)\n",
    "        self.var_q = max(self.var_q, 1e-3)\n",
    "        ret.append(max(1e4, np.random.normal(self.mean_q, self.var_q ** 0.5)))\n",
    "        return ret\n",
    "\n",
    "villages = {name: Village(name) for name in pos}\n",
    "\n",
    "for trade in trades:\n",
    "    villages[trade['a']].hist_p.append(trade['price'])\n",
    "    villages[trade['b']].hist_p.append(trade['price'])\n",
    "    villages[trade['a']].hist_q.append(trade['vol'])\n",
    "    villages[trade['b']].hist_q.append(trade['vol'])\n",
    "    villages[trade['a']].hist_sb.append('s')\n",
    "    villages[trade['b']].hist_sb.append('b')\n",
    "\n",
    "distances = [get_dis(trade['a'], trade['b']) for trade in trades]\n",
    "plt.hist(distances)\n",
    "plt.show()"
   ]
  },
  {
   "cell_type": "code",
   "execution_count": 8,
   "metadata": {
    "collapsed": true
   },
   "outputs": [],
   "source": [
    "for name in villages:\n",
    "    villages[name].prepare()"
   ]
  },
  {
   "cell_type": "code",
   "execution_count": 9,
   "metadata": {
    "collapsed": true
   },
   "outputs": [],
   "source": [
    "data_cnt = 0\n",
    "def generate_instance():\n",
    "    global data_cnt\n",
    "    sample = []\n",
    "    for i in villages:\n",
    "        sample.append(villages[i].get_instance())\n",
    "    f = file('price_data/data%d.txt'%data_cnt, 'w')\n",
    "    data_cnt += 1\n",
    "    f.write(str(sample))"
   ]
  },
  {
   "cell_type": "code",
   "execution_count": 11,
   "metadata": {
    "collapsed": true
   },
   "outputs": [],
   "source": [
    "import os\n",
    "os.mkdir('price_data')"
   ]
  },
  {
   "cell_type": "code",
   "execution_count": 12,
   "metadata": {
    "collapsed": false
   },
   "outputs": [],
   "source": [
    "for i in range(100):\n",
    "    generate_instance()"
   ]
  },
  {
   "cell_type": "code",
   "execution_count": null,
   "metadata": {
    "collapsed": true
   },
   "outputs": [],
   "source": []
  }
 ],
 "metadata": {
  "kernelspec": {
   "display_name": "Python 2",
   "language": "python",
   "name": "python2"
  },
  "language_info": {
   "codemirror_mode": {
    "name": "ipython",
    "version": 2
   },
   "file_extension": ".py",
   "mimetype": "text/x-python",
   "name": "python",
   "nbconvert_exporter": "python",
   "pygments_lexer": "ipython2",
   "version": "2.7.13"
  }
 },
 "nbformat": 4,
 "nbformat_minor": 1
}
